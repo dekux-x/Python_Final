{
 "cells": [
  {
   "cell_type": "code",
   "execution_count": 2,
   "metadata": {},
   "outputs": [],
   "source": [
    "import requests\n",
    "import pandas as pd \n",
    "import numpy as np \n",
    "import matplotlib.pyplot as plt \n",
    "import seaborn as sns "
   ]
  },
  {
   "cell_type": "markdown",
   "metadata": {},
   "source": [
    "## Data Collection"
   ]
  },
  {
   "cell_type": "code",
   "execution_count": 120,
   "metadata": {},
   "outputs": [],
   "source": [
    "def fetch_all_vacancies(text: str):\n",
    "    url = \"https://api.hh.ru/vacancies\"\n",
    "    params = {\n",
    "        \"text\": text,             \n",
    "        \"area\": 40,                 \n",
    "        \"per_page\": 100,        \n",
    "        'industry': 7     \n",
    "    }\n",
    "    all_vacancies = []\n",
    "    page = 0 \n",
    "\n",
    "    while True:\n",
    "        params[\"page\"] = page\n",
    "        response = requests.get(url, params=params)\n",
    "        \n",
    "        if response.status_code != 200:\n",
    "            print(f\"Ошибка: {response.status_code}, {response.text}\")\n",
    "            break\n",
    "\n",
    "        data = response.json()\n",
    "        items = data.get(\"items\", [])\n",
    "        all_vacancies.extend(items)\n",
    "\n",
    "        print(f\"Обработана страница {page + 1}, найдено вакансий: {len(items)}\")\n",
    "        if page >= data.get(\"pages\", 0) - 1:\n",
    "            break\n",
    "        page += 1 \n",
    "\n",
    "    print(f\"Всего собрано вакансий: {len(all_vacancies)}\")\n",
    "    return all_vacancies"
   ]
  },
  {
   "cell_type": "code",
   "execution_count": 121,
   "metadata": {},
   "outputs": [
    {
     "name": "stdout",
     "output_type": "stream",
     "text": [
      "Обработана страница 1, найдено вакансий: 43\n",
      "Всего собрано вакансий: 43\n"
     ]
    }
   ],
   "source": [
    "data_DA = fetch_all_vacancies(\"Data analyst\")"
   ]
  },
  {
   "cell_type": "code",
   "execution_count": 122,
   "metadata": {},
   "outputs": [
    {
     "name": "stdout",
     "output_type": "stream",
     "text": [
      "Обработана страница 1, найдено вакансий: 91\n",
      "Всего собрано вакансий: 91\n"
     ]
    }
   ],
   "source": [
    "data_QA = fetch_all_vacancies(\"QA Engineer\")"
   ]
  },
  {
   "cell_type": "code",
   "execution_count": 123,
   "metadata": {},
   "outputs": [
    {
     "name": "stdout",
     "output_type": "stream",
     "text": [
      "Обработана страница 1, найдено вакансий: 49\n",
      "Всего собрано вакансий: 49\n"
     ]
    }
   ],
   "source": [
    "data_SA = fetch_all_vacancies(\"System analyst\")"
   ]
  },
  {
   "cell_type": "code",
   "execution_count": 124,
   "metadata": {},
   "outputs": [
    {
     "name": "stdout",
     "output_type": "stream",
     "text": [
      "Обработана страница 1, найдено вакансий: 50\n",
      "Всего собрано вакансий: 50\n"
     ]
    }
   ],
   "source": [
    "data_PM = fetch_all_vacancies(\"Product Manager\")"
   ]
  },
  {
   "cell_type": "code",
   "execution_count": 125,
   "metadata": {},
   "outputs": [
    {
     "name": "stdout",
     "output_type": "stream",
     "text": [
      "Обработана страница 1, найдено вакансий: 100\n",
      "Обработана страница 2, найдено вакансий: 25\n",
      "Всего собрано вакансий: 125\n"
     ]
    }
   ],
   "source": [
    "data_Back = fetch_all_vacancies('Backend Developer')"
   ]
  },
  {
   "cell_type": "code",
   "execution_count": 126,
   "metadata": {},
   "outputs": [
    {
     "name": "stdout",
     "output_type": "stream",
     "text": [
      "Обработана страница 1, найдено вакансий: 49\n",
      "Всего собрано вакансий: 49\n"
     ]
    }
   ],
   "source": [
    "data_IOS = fetch_all_vacancies(\"IOS Developer\")"
   ]
  },
  {
   "cell_type": "code",
   "execution_count": 127,
   "metadata": {},
   "outputs": [
    {
     "name": "stdout",
     "output_type": "stream",
     "text": [
      "Обработана страница 1, найдено вакансий: 52\n",
      "Всего собрано вакансий: 52\n"
     ]
    }
   ],
   "source": [
    "data_Android = fetch_all_vacancies('Android Developer')"
   ]
  },
  {
   "cell_type": "code",
   "execution_count": 128,
   "metadata": {},
   "outputs": [
    {
     "name": "stdout",
     "output_type": "stream",
     "text": [
      "Обработана страница 1, найдено вакансий: 100\n",
      "Обработана страница 2, найдено вакансий: 2\n",
      "Всего собрано вакансий: 102\n"
     ]
    }
   ],
   "source": [
    "data_Front = fetch_all_vacancies(\"Frontend Developer\")"
   ]
  },
  {
   "cell_type": "code",
   "execution_count": 129,
   "metadata": {},
   "outputs": [
    {
     "name": "stdout",
     "output_type": "stream",
     "text": [
      "Обработана страница 1, найдено вакансий: 74\n",
      "Всего собрано вакансий: 74\n"
     ]
    }
   ],
   "source": [
    "data_Devops = fetch_all_vacancies(\"DevOps\")"
   ]
  },
  {
   "cell_type": "code",
   "execution_count": 130,
   "metadata": {},
   "outputs": [
    {
     "name": "stdout",
     "output_type": "stream",
     "text": [
      "Обработана страница 1, найдено вакансий: 78\n",
      "Всего собрано вакансий: 78\n"
     ]
    }
   ],
   "source": [
    "data_Security = fetch_all_vacancies('Security engineer')"
   ]
  },
  {
   "cell_type": "code",
   "execution_count": 131,
   "metadata": {},
   "outputs": [],
   "source": [
    "\n",
    "def process_vacancies(data):\n",
    "    vacancies = []\n",
    "    for item in data:\n",
    "        salary = item.get(\"salary\")\n",
    "        vacancies.append({\n",
    "            \"name\": item.get(\"name\"),\n",
    "            \"area_name\": item.get(\"area\", {}).get(\"name\"),\n",
    "            \"salary_from\": salary.get(\"from\") if salary else None,\n",
    "            \"salary_to\": salary.get(\"to\") if salary else None,\n",
    "            \"salary_currency\": salary.get(\"currency\") if salary else None,\n",
    "            \"published_at\": item.get(\"published_at\"),\n",
    "            \"employer_name\": item.get(\"employer\", {}).get(\"name\"),\n",
    "            \"requirement\": item.get(\"snippet\", {}).get(\"requirement\"),\n",
    "            \"schedule_id\": item.get(\"schedule\", {}).get(\"id\"),\n",
    "            \"working_hours_id\": item.get(\"working_hours\", [{}])[0].get(\"id\") if item.get(\"working_hours\") else None,\n",
    "            \"work_schedule_by_days\": item.get(\"work_schedule_by_days\", [{}])[0].get(\"name\") if item.get(\"work_schedule_by_days\") else None,\n",
    "            \"professional_roles\": \", \".join(role.get(\"name\", \"\") for role in item.get(\"professional_roles\", [])),\n",
    "            \"experience_name\": item.get(\"experience\", {}).get(\"name\"),\n",
    "            \"employment_id\": item.get(\"employment\", {}).get(\"id\"),\n",
    "        })\n",
    "    return pd.DataFrame(vacancies)\n"
   ]
  },
  {
   "cell_type": "code",
   "execution_count": 132,
   "metadata": {},
   "outputs": [],
   "source": [
    "df_DA = process_vacancies(data_DA)\n",
    "df_SA = process_vacancies(data_SA)\n",
    "df_Backend = process_vacancies(data_Back)\n",
    "df_QA = process_vacancies(data_QA)\n",
    "df_IOS = process_vacancies(data_IOS)\n",
    "df_Android = process_vacancies(data_Android)\n",
    "df_Security = process_vacancies(data_Security)\n",
    "df_Front = process_vacancies(data_Front)\n",
    "df_DevOps = process_vacancies(data_Devops)\n",
    "df_PM = process_vacancies(data_PM)"
   ]
  },
  {
   "cell_type": "code",
   "execution_count": 142,
   "metadata": {},
   "outputs": [],
   "source": [
    "df_full = [df_Front,df_DevOps,df_Android,df_Backend,df_DA,df_IOS,df_PM,df_SA,df_Security,df_QA]\n",
    "df_full = pd.concat(df_full,ignore_index=True)"
   ]
  },
  {
   "cell_type": "code",
   "execution_count": 143,
   "metadata": {},
   "outputs": [
    {
     "data": {
      "text/plain": [
       "713"
      ]
     },
     "execution_count": 143,
     "metadata": {},
     "output_type": "execute_result"
    }
   ],
   "source": [
    "len(df_full)"
   ]
  },
  {
   "cell_type": "code",
   "execution_count": 144,
   "metadata": {},
   "outputs": [],
   "source": [
    "df_full.to_csv(\"data/all_vacancies.csv\", index=False)\n",
    "df_Android.to_csv('data/android_vacancies.csv',index=False)\n",
    "df_Backend.to_csv('data/backend_vacancies.csv', index=False)\n",
    "df_PM.to_csv('data/pm_vacancies.csv', index=False)\n",
    "df_DA.to_csv('data/da_vacancies.csv', index=False)\n",
    "df_QA.to_csv('data/qa_vacancies.csv', index=False)\n",
    "df_IOS.to_csv('data/ios_vacancies.csv', index=False)\n",
    "df_DevOps.to_csv('data/devops_vacancies.csv', index=False)\n",
    "df_Security.to_csv('data/security_vacancies.csv', index=False)\n",
    "df_Front.to_csv('data/frontend_vacancies.csv', index=False)\n",
    "df_SA.to_csv(\"data/sa_vacancies.csv\", index=False)"
   ]
  },
  {
   "cell_type": "markdown",
   "metadata": {},
   "source": [
    "## Data Analysis"
   ]
  },
  {
   "cell_type": "code",
   "execution_count": 1,
   "metadata": {},
   "outputs": [],
   "source": [
    "import nltk\n",
    "from nltk.corpus import stopwords\n",
    "from collections import Counter\n",
    "import string\n",
    "from sklearn.feature_extraction.text import CountVectorizer\n"
   ]
  },
  {
   "cell_type": "code",
   "execution_count": 3,
   "metadata": {},
   "outputs": [
    {
     "name": "stderr",
     "output_type": "stream",
     "text": [
      "[nltk_data] Downloading package stopwords to\n",
      "[nltk_data]     C:\\Users\\Dias\\AppData\\Roaming\\nltk_data...\n",
      "[nltk_data]   Package stopwords is already up-to-date!\n"
     ]
    }
   ],
   "source": [
    "nltk.download('stopwords')\n",
    "stop_words = set(stopwords.words('russian') + stopwords.words('english'))\n",
    "custom_sw = ['опыт','работы',\"experience\",'знание','понимание','знания','умение','knowledge',\n",
    "             'принципов','working','highlighttextdatahighlighttext','ability','–','—',\n",
    "             'highlighttext','лет','years','навыки','работать','understanding','инструментами']\n",
    "stop_words.update(custom_sw)"
   ]
  },
  {
   "cell_type": "code",
   "execution_count": 4,
   "metadata": {},
   "outputs": [],
   "source": [
    "def get_req_freqeuncy(data: list):\n",
    "    text = \" \".join(data)\n",
    "    text = text.lower()\n",
    "    text = text.translate(str.maketrans(\"\", \"\", string.punctuation))\n",
    "    words = [word for word in text.split() if word not in stop_words]\n",
    "\n",
    "    return Counter(words)\n",
    "\n",
    "def get_req_phrases(data:list):\n",
    "    vectorizer = CountVectorizer(ngram_range=(2, 3), stop_words=list(stop_words))\n",
    "    X = vectorizer.fit_transform(data)\n",
    "    phrases = vectorizer.get_feature_names_out()\n",
    "    counts = X.toarray().sum(axis=0)\n",
    "    return Counter(dict(zip(phrases, counts)))\n",
    "\n"
   ]
  },
  {
   "cell_type": "code",
   "execution_count": 5,
   "metadata": {},
   "outputs": [],
   "source": [
    "df_DA = pd.read_csv(\"data/da_vacancies.csv\")\n",
    "df_Back = pd.read_csv('data/backend_vacancies.csv')\n",
    "df_PM = pd.read_csv('data/pm_vacancies.csv')"
   ]
  },
  {
   "cell_type": "code",
   "execution_count": 6,
   "metadata": {},
   "outputs": [],
   "source": [
    "req_DA = get_req_freqeuncy(df_DA['requirement'].to_list())"
   ]
  },
  {
   "cell_type": "code",
   "execution_count": 7,
   "metadata": {},
   "outputs": [
    {
     "name": "stdout",
     "output_type": "stream",
     "text": [
      "Самые часто встречающиеся слова в требованиях Дата Аналитики\n"
     ]
    },
    {
     "data": {
      "text/plain": [
       "[('данных', 8),\n",
       " ('2', 8),\n",
       " ('highlighttextаналитикиhighlighttext', 4),\n",
       " ('python', 4),\n",
       " ('science', 4),\n",
       " ('integration', 4),\n",
       " ('sql', 4),\n",
       " ('архитектуры', 4),\n",
       " ('dbt', 3),\n",
       " ('системами', 3),\n",
       " ('analytics', 3),\n",
       " ('excel', 3),\n",
       " ('power', 3),\n",
       " ('highlighttextanalysthighlighttext', 3),\n",
       " ('big', 3)]"
      ]
     },
     "execution_count": 7,
     "metadata": {},
     "output_type": "execute_result"
    }
   ],
   "source": [
    "print(\"Самые часто встречающиеся слова в требованиях Дата Аналитики\")\n",
    "req_DA.most_common(15)"
   ]
  },
  {
   "cell_type": "code",
   "execution_count": 8,
   "metadata": {},
   "outputs": [],
   "source": [
    "phrases_DA = get_req_phrases(df_DA['requirement'].to_list())"
   ]
  },
  {
   "cell_type": "code",
   "execution_count": 9,
   "metadata": {},
   "outputs": [
    {
     "name": "stdout",
     "output_type": "stream",
     "text": [
      "Самые часто встречающиеся фразы в требованиях Дата Аналитики\n"
     ]
    },
    {
     "data": {
      "text/plain": [
       "[('data integration', np.int64(4)),\n",
       " ('big data', np.int64(3)),\n",
       " ('data science', np.int64(3)),\n",
       " ('data visualization', np.int64(3)),\n",
       " ('advanced excel', np.int64(2)),\n",
       " ('advanced excel google', np.int64(2)),\n",
       " ('airflow jupyter', np.int64(2)),\n",
       " ('airflow jupyter notebook', np.int64(2)),\n",
       " ('analytics data', np.int64(2)),\n",
       " ('analytics data modelling', np.int64(2)),\n",
       " ('arrays pivots', np.int64(2)),\n",
       " ('arrays pivots data', np.int64(2)),\n",
       " ('banking data', np.int64(2)),\n",
       " ('banking data data', np.int64(2)),\n",
       " ('build tool', np.int64(2))]"
      ]
     },
     "execution_count": 9,
     "metadata": {},
     "output_type": "execute_result"
    }
   ],
   "source": [
    "print(\"Самые часто встречающиеся фразы в требованиях Дата Аналитики\")\n",
    "phrases_DA.most_common(15)"
   ]
  },
  {
   "cell_type": "code",
   "execution_count": null,
   "metadata": {},
   "outputs": [],
   "source": []
  }
 ],
 "metadata": {
  "kernelspec": {
   "display_name": "base",
   "language": "python",
   "name": "python3"
  },
  "language_info": {
   "codemirror_mode": {
    "name": "ipython",
    "version": 3
   },
   "file_extension": ".py",
   "mimetype": "text/x-python",
   "name": "python",
   "nbconvert_exporter": "python",
   "pygments_lexer": "ipython3",
   "version": "3.12.4"
  }
 },
 "nbformat": 4,
 "nbformat_minor": 2
}
